{
  "nbformat": 4,
  "nbformat_minor": 0,
  "metadata": {
    "colab": {
      "provenance": [],
      "authorship_tag": "ABX9TyOqhbchqliSxfJ6CmwKU0GE",
      "include_colab_link": true
    },
    "kernelspec": {
      "name": "python3",
      "display_name": "Python 3"
    },
    "language_info": {
      "name": "python"
    }
  },
  "cells": [
    {
      "cell_type": "markdown",
      "metadata": {
        "id": "view-in-github",
        "colab_type": "text"
      },
      "source": [
        "<a href=\"https://colab.research.google.com/github/AtomZa/BadApple-EdgeDetection/blob/main/EasyAI.ipynb\" target=\"_parent\"><img src=\"https://colab.research.google.com/assets/colab-badge.svg\" alt=\"Open In Colab\"/></a>"
      ]
    },
    {
      "cell_type": "markdown",
      "source": [
        "#Example Template for P'Friend\n",
        "\n",
        "Feature: Accept multiple time series input data \n",
        " Ex. [(0.5, 0.6, 0.5), (0.4, 0.2, 0.1), (0.2, 0.1, 0.3)] labeling with class [0] or [1].\n",
        "\n",
        "*Note that time series size and number of classes can be adjust later.*\n",
        "\n",
        "After I recieving the dataset I can build the dataloader framework for you krub :)\n",
        "\n",
        "## Deep Learning Algorithms\n",
        "1. 1D CNN\n",
        "2. LSTM"
      ],
      "metadata": {
        "id": "soT_89V4MBUZ"
      }
    },
    {
      "cell_type": "code",
      "source": [
        "import torch\n",
        "import torch.nn as nn\n",
        "import torch.optim as optim\n",
        "import numpy as np\n",
        "import matplotlib.pyplot as plt\n",
        "\n",
        "from sklearn.model_selection import train_test_split"
      ],
      "metadata": {
        "id": "u6x4YlrSXmLw"
      },
      "execution_count": 210,
      "outputs": []
    },
    {
      "cell_type": "markdown",
      "source": [
        "# 1D CNN"
      ],
      "metadata": {
        "id": "DYlAMtsvLQIF"
      }
    },
    {
      "cell_type": "code",
      "source": [
        "# Define the 1D CNN model\n",
        "class CNN(nn.Module):\n",
        "    def __init__(self):\n",
        "        super(CNN, self).__init__()\n",
        "        self.conv1 = nn.Conv1d(in_channels=1, out_channels=16, kernel_size=2, stride=1)\n",
        "        self.relu1 = nn.ReLU()\n",
        "        self.pool1 = nn.MaxPool1d(kernel_size=2)\n",
        "        self.flatten = nn.Flatten()\n",
        "        self.fc1 = nn.Linear(in_features=16, out_features=2)\n",
        "        self.softmax = nn.Softmax(dim=1)\n",
        "\n",
        "    def forward(self, x):\n",
        "        x = self.conv1(x)\n",
        "        x = self.relu1(x)\n",
        "        x = self.pool1(x)\n",
        "        x = self.flatten(x)\n",
        "        x = self.fc1(x)\n",
        "        x = self.softmax(x)\n",
        "        return x\n",
        "\n",
        "# Instantiate the model and define the loss function and optimizer\n",
        "model = CNN()\n",
        "criterion = nn.CrossEntropyLoss()\n",
        "optimizer = optim.SGD(model.parameters(), lr=0.01)"
      ],
      "metadata": {
        "id": "MLOxTuLSXtkX"
      },
      "execution_count": 211,
      "outputs": []
    },
    {
      "cell_type": "code",
      "execution_count": 212,
      "metadata": {
        "colab": {
          "base_uri": "https://localhost:8080/"
        },
        "id": "JMFnkYPRLJg0",
        "outputId": "c1e5ce99-a890-420c-dc06-c5dc4ffff014"
      },
      "outputs": [
        {
          "output_type": "stream",
          "name": "stdout",
          "text": [
            "Epoch [10/100], Loss: 0.7012\n",
            "Epoch [20/100], Loss: 0.6996\n",
            "Epoch [30/100], Loss: 0.6981\n",
            "Epoch [40/100], Loss: 0.6966\n",
            "Epoch [50/100], Loss: 0.6952\n",
            "Epoch [60/100], Loss: 0.6938\n",
            "Epoch [70/100], Loss: 0.6925\n",
            "Epoch [80/100], Loss: 0.6912\n",
            "Epoch [90/100], Loss: 0.6900\n",
            "Epoch [100/100], Loss: 0.6889\n",
            "Test Loss: 0.6722, Test Accuracy: 100.00%\n"
          ]
        }
      ],
      "source": [
        "# Define the dataset\n",
        "X = np.array([[0.5, 0.6, 0.5], [0.4, 0.2, 0.1], [0.2, 0.1, 0.3]], dtype=np.float32)\n",
        "y = np.array([1, 0, 1], dtype=np.int64)\n",
        "\n",
        "# Split the data into train and test sets\n",
        "X_train, X_test, y_train, y_test = train_test_split(X, y, test_size=0.2, random_state=42)\n",
        "\n",
        "# Convert the data to PyTorch tensors\n",
        "X_train = torch.from_numpy(X_train).unsqueeze(1)  # Add a channel dimension to the data\n",
        "y_train = torch.from_numpy(y_train)\n",
        "X_test = torch.from_numpy(X_test).unsqueeze(1)  # Add a channel dimension to the data\n",
        "y_test = torch.from_numpy(y_test)\n",
        "\n",
        "# Train the model\n",
        "num_epochs = 100\n",
        "for epoch in range(num_epochs):\n",
        "    optimizer.zero_grad()\n",
        "    output = model(X_train)\n",
        "    loss = criterion(output, y_train)\n",
        "    loss.backward()\n",
        "    optimizer.step()\n",
        "\n",
        "    if (epoch+1) % 10 == 0:\n",
        "        print('Epoch [{}/{}], Loss: {:.4f}'.format(epoch+1, num_epochs, loss.item()))\n",
        "        \n",
        "# Evaluate the model on the test set\n",
        "with torch.no_grad():\n",
        "    test_output = model(X_test)\n",
        "    test_loss = criterion(test_output, y_test)\n",
        "    test_pred_classes = torch.argmax(test_output, dim=1)\n",
        "    test_accuracy = torch.mean((test_pred_classes == y_test).float())\n",
        "    print('Test Loss: {:.4f}, Test Accuracy: {:.2f}%'.format(test_loss.item(), test_accuracy.item()*100))\n"
      ]
    },
    {
      "cell_type": "markdown",
      "source": [
        "# LSTM"
      ],
      "metadata": {
        "id": "Hok162jtLUl7"
      }
    },
    {
      "cell_type": "code",
      "source": [
        "# define the LSTM class\n",
        "class LSTM(nn.Module):\n",
        "    def __init__(self, input_size, hidden_size, num_layers, output_size):\n",
        "        super(LSTM, self).__init__()\n",
        "        self.hidden_size = hidden_size\n",
        "        self.num_layers = num_layers\n",
        "        self.lstm = nn.LSTM(input_size, hidden_size, num_layers, batch_first=True)\n",
        "        self.fc = nn.Linear(hidden_size, output_size)\n",
        "    \n",
        "    def forward(self, x):\n",
        "        # Initialize hidden state with zeros\n",
        "        h0 = torch.zeros(self.num_layers, x.size(0), self.hidden_size).requires_grad_()\n",
        "        # Initialize cell state with zeros\n",
        "        c0 = torch.zeros(self.num_layers, x.size(0), self.hidden_size).requires_grad_()\n",
        "        \n",
        "        # Propagate input through LSTM\n",
        "        out, (hn, cn) = self.lstm(x, (h0.detach(), c0.detach()))\n",
        "        \n",
        "        # Pass the output of the last time step through the fully connected layer\n",
        "        out = self.fc(out[:, -1, :])\n",
        "        return out\n",
        "\n",
        "# set the hyperparameters of the model\n",
        "input_size = 3\n",
        "hidden_size = 4\n",
        "num_layers = 1\n",
        "output_size = 2\n",
        "\n",
        "# create an instance of the LSTM class\n",
        "model = LSTM(input_size, hidden_size, num_layers, output_size)\n",
        "\n",
        "# set the loss function and optimizer\n",
        "criterion = nn.CrossEntropyLoss()\n",
        "optimizer = torch.optim.Adam(model.parameters(), lr=0.01)"
      ],
      "metadata": {
        "id": "GP4n8ezLQz6u"
      },
      "execution_count": 213,
      "outputs": []
    },
    {
      "cell_type": "code",
      "source": [
        "# define the input data and corresponding labels\n",
        "input_data = np.array([(0.5, 0.6, 0.5), (0.4, 0.2, 0.1), (0.2, 0.1, 0.3)], dtype=np.float32)\n",
        "labels = np.array([1, 0, 1], dtype=np.int64)\n",
        "\n",
        "# split the input data and labels into training and testing sets\n",
        "x_train, x_test, y_train, y_test = train_test_split(input_data, labels, test_size=0.2)\n",
        "\n",
        "# create PyTorch tensors from the input data and labels\n",
        "x_train = torch.from_numpy(x_train).unsqueeze(0)\n",
        "y_train = torch.from_numpy(y_train)\n",
        "\n",
        "x_test = torch.from_numpy(x_test).unsqueeze(0)\n",
        "y_test = torch.from_numpy(y_test)\n",
        "\n",
        "# train the model\n",
        "num_epochs = 1000\n",
        "for epoch in range(num_epochs):\n",
        "    # randomly sample a batch of data\n",
        "    indices = torch.randperm(x_train.size(0))\n",
        "    batch_x, batch_y = x_train[indices], y_train[indices]\n",
        "    \n",
        "    optimizer.zero_grad()\n",
        "    output = model(batch_x)\n",
        "    loss = criterion(output, batch_y)\n",
        "    loss.backward()\n",
        "    optimizer.step()\n",
        "    \n",
        "    if epoch % 100 == 0:\n",
        "        print(\"Epoch [{}/{}], Loss: {:.4f}\".format(epoch+1, num_epochs, loss.item()))\n",
        "\n",
        "# Evaluate the model on the test set\n",
        "with torch.no_grad():\n",
        "    test_output = model(X_test)\n",
        "    test_loss = criterion(test_output, y_test)\n",
        "    test_pred_classes = torch.argmax(test_output, dim=1)\n",
        "    test_accuracy = torch.mean((test_pred_classes == y_test).float())\n",
        "    print('Test Loss: {:.4f}, Test Accuracy: {:.2f}%'.format(test_loss.item(), test_accuracy.item()*100))\n"
      ],
      "metadata": {
        "colab": {
          "base_uri": "https://localhost:8080/"
        },
        "id": "m6FaiWbhLUJZ",
        "outputId": "e9c5f02a-adbc-44e5-86ac-47e36d5c9c9d"
      },
      "execution_count": 214,
      "outputs": [
        {
          "output_type": "stream",
          "name": "stdout",
          "text": [
            "Epoch [1/1000], Loss: 0.5080\n",
            "Epoch [101/1000], Loss: 0.0066\n",
            "Epoch [201/1000], Loss: 0.0017\n",
            "Epoch [301/1000], Loss: 0.0008\n",
            "Epoch [401/1000], Loss: 0.0005\n",
            "Epoch [501/1000], Loss: 0.0003\n",
            "Epoch [601/1000], Loss: 0.0002\n",
            "Epoch [701/1000], Loss: 0.0002\n",
            "Epoch [801/1000], Loss: 0.0002\n",
            "Epoch [901/1000], Loss: 0.0001\n",
            "Test Loss: 6.5501, Test Accuracy: 0.00%\n"
          ]
        }
      ]
    }
  ]
}